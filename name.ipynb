{
 "cells": [
  {
   "cell_type": "markdown",
   "id": "c96a31e2",
   "metadata": {},
   "source": [
    "# code\n"
   ]
  },
  {
   "cell_type": "code",
   "execution_count": 2,
   "id": "56c592bc",
   "metadata": {},
   "outputs": [
    {
     "name": "stdout",
     "output_type": "stream",
     "text": [
      "shuvo\n"
     ]
    }
   ],
   "source": [
    "print(\"shuvo\")"
   ]
  },
  {
   "cell_type": "markdown",
   "id": "fc0abcfd",
   "metadata": {},
   "source": [
    "# run\n"
   ]
  },
  {
   "cell_type": "code",
   "execution_count": 3,
   "id": "a5cee9d5",
   "metadata": {},
   "outputs": [
    {
     "name": "stdout",
     "output_type": "stream",
     "text": [
      "jupyter notebook\n",
      "jupyter lab\n"
     ]
    }
   ],
   "source": [
    "print(\"jupyter notebook\")\n",
    "print(\"jupyter lab\")\n"
   ]
  }
 ],
 "metadata": {
  "kernelspec": {
   "display_name": "Python 3",
   "language": "python",
   "name": "python3"
  },
  "language_info": {
   "codemirror_mode": {
    "name": "ipython",
    "version": 3
   },
   "file_extension": ".py",
   "mimetype": "text/x-python",
   "name": "python",
   "nbconvert_exporter": "python",
   "pygments_lexer": "ipython3",
   "version": "3.11.1"
  }
 },
 "nbformat": 4,
 "nbformat_minor": 5
}
